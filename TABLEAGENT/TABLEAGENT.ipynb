{
 "cells": [
  {
   "cell_type": "code",
   "execution_count": 1,
   "id": "bf9b1d84-2dfd-4120-b61b-49fe2a501e6e",
   "metadata": {},
   "outputs": [
    {
     "name": "stdout",
     "output_type": "stream",
     "text": [
      "Defaulting to user installation because normal site-packages is not writeable\n",
      "Requirement already satisfied: transformers in ./.local/lib/python3.12/site-packages (4.50.3)\n",
      "Requirement already satisfied: filelock in ./.local/lib/python3.12/site-packages (from transformers) (3.18.0)\n",
      "Requirement already satisfied: huggingface-hub<1.0,>=0.26.0 in ./.local/lib/python3.12/site-packages (from transformers) (0.30.1)\n",
      "Requirement already satisfied: numpy>=1.17 in /packages/apps/jupyter/2025-03-24/lib/python3.12/site-packages (from transformers) (2.2.4)\n",
      "Requirement already satisfied: packaging>=20.0 in /packages/apps/jupyter/2025-03-24/lib/python3.12/site-packages (from transformers) (24.2)\n",
      "Requirement already satisfied: pyyaml>=5.1 in /packages/apps/jupyter/2025-03-24/lib/python3.12/site-packages (from transformers) (6.0.2)\n",
      "Requirement already satisfied: regex!=2019.12.17 in ./.local/lib/python3.12/site-packages (from transformers) (2024.11.6)\n",
      "Requirement already satisfied: requests in /packages/apps/jupyter/2025-03-24/lib/python3.12/site-packages (from transformers) (2.32.3)\n",
      "Requirement already satisfied: tokenizers<0.22,>=0.21 in ./.local/lib/python3.12/site-packages (from transformers) (0.21.1)\n",
      "Requirement already satisfied: safetensors>=0.4.3 in ./.local/lib/python3.12/site-packages (from transformers) (0.5.3)\n",
      "Requirement already satisfied: tqdm>=4.27 in /packages/apps/jupyter/2025-03-24/lib/python3.12/site-packages (from transformers) (4.67.1)\n",
      "Requirement already satisfied: fsspec>=2023.5.0 in ./.local/lib/python3.12/site-packages (from huggingface-hub<1.0,>=0.26.0->transformers) (2025.3.2)\n",
      "Requirement already satisfied: typing-extensions>=3.7.4.3 in ./.local/lib/python3.12/site-packages (from huggingface-hub<1.0,>=0.26.0->transformers) (4.13.1)\n",
      "Requirement already satisfied: charset_normalizer<4,>=2 in /packages/apps/jupyter/2025-03-24/lib/python3.12/site-packages (from requests->transformers) (3.4.1)\n",
      "Requirement already satisfied: idna<4,>=2.5 in /packages/apps/jupyter/2025-03-24/lib/python3.12/site-packages (from requests->transformers) (3.10)\n",
      "Requirement already satisfied: urllib3<3,>=1.21.1 in /packages/apps/jupyter/2025-03-24/lib/python3.12/site-packages (from requests->transformers) (2.3.0)\n",
      "Requirement already satisfied: certifi>=2017.4.17 in /packages/apps/jupyter/2025-03-24/lib/python3.12/site-packages (from requests->transformers) (2025.1.31)\n",
      "Defaulting to user installation because normal site-packages is not writeable\n",
      "Requirement already satisfied: pandas in ./.local/lib/python3.12/site-packages (2.2.3)\n",
      "Requirement already satisfied: numpy>=1.26.0 in /packages/apps/jupyter/2025-03-24/lib/python3.12/site-packages (from pandas) (2.2.4)\n",
      "Requirement already satisfied: python-dateutil>=2.8.2 in /packages/apps/jupyter/2025-03-24/lib/python3.12/site-packages (from pandas) (2.9.0.post0)\n",
      "Requirement already satisfied: pytz>=2020.1 in /packages/apps/jupyter/2025-03-24/lib/python3.12/site-packages (from pandas) (2025.1)\n",
      "Requirement already satisfied: tzdata>=2022.7 in ./.local/lib/python3.12/site-packages (from pandas) (2025.2)\n",
      "Requirement already satisfied: six>=1.5 in /packages/apps/jupyter/2025-03-24/lib/python3.12/site-packages (from python-dateutil>=2.8.2->pandas) (1.17.0)\n",
      "Defaulting to user installation because normal site-packages is not writeable\n",
      "Requirement already satisfied: tabulate in ./.local/lib/python3.12/site-packages (0.9.0)\n",
      "Defaulting to user installation because normal site-packages is not writeable\n",
      "Requirement already satisfied: torch in ./.local/lib/python3.12/site-packages (2.6.0)\n",
      "Requirement already satisfied: filelock in ./.local/lib/python3.12/site-packages (from torch) (3.18.0)\n",
      "Requirement already satisfied: typing-extensions>=4.10.0 in ./.local/lib/python3.12/site-packages (from torch) (4.13.1)\n",
      "Requirement already satisfied: networkx in ./.local/lib/python3.12/site-packages (from torch) (3.4.2)\n",
      "Requirement already satisfied: jinja2 in /packages/apps/jupyter/2025-03-24/lib/python3.12/site-packages (from torch) (3.1.6)\n",
      "Requirement already satisfied: fsspec in ./.local/lib/python3.12/site-packages (from torch) (2025.3.2)\n",
      "Requirement already satisfied: nvidia-cuda-nvrtc-cu12==12.4.127 in ./.local/lib/python3.12/site-packages (from torch) (12.4.127)\n",
      "Requirement already satisfied: nvidia-cuda-runtime-cu12==12.4.127 in ./.local/lib/python3.12/site-packages (from torch) (12.4.127)\n",
      "Requirement already satisfied: nvidia-cuda-cupti-cu12==12.4.127 in ./.local/lib/python3.12/site-packages (from torch) (12.4.127)\n",
      "Requirement already satisfied: nvidia-cudnn-cu12==9.1.0.70 in ./.local/lib/python3.12/site-packages (from torch) (9.1.0.70)\n",
      "Requirement already satisfied: nvidia-cublas-cu12==12.4.5.8 in ./.local/lib/python3.12/site-packages (from torch) (12.4.5.8)\n",
      "Requirement already satisfied: nvidia-cufft-cu12==11.2.1.3 in ./.local/lib/python3.12/site-packages (from torch) (11.2.1.3)\n",
      "Requirement already satisfied: nvidia-curand-cu12==10.3.5.147 in ./.local/lib/python3.12/site-packages (from torch) (10.3.5.147)\n",
      "Requirement already satisfied: nvidia-cusolver-cu12==11.6.1.9 in ./.local/lib/python3.12/site-packages (from torch) (11.6.1.9)\n",
      "Requirement already satisfied: nvidia-cusparse-cu12==12.3.1.170 in ./.local/lib/python3.12/site-packages (from torch) (12.3.1.170)\n",
      "Requirement already satisfied: nvidia-cusparselt-cu12==0.6.2 in ./.local/lib/python3.12/site-packages (from torch) (0.6.2)\n",
      "Requirement already satisfied: nvidia-nccl-cu12==2.21.5 in ./.local/lib/python3.12/site-packages (from torch) (2.21.5)\n",
      "Requirement already satisfied: nvidia-nvtx-cu12==12.4.127 in ./.local/lib/python3.12/site-packages (from torch) (12.4.127)\n",
      "Requirement already satisfied: nvidia-nvjitlink-cu12==12.4.127 in ./.local/lib/python3.12/site-packages (from torch) (12.4.127)\n",
      "Requirement already satisfied: triton==3.2.0 in ./.local/lib/python3.12/site-packages (from torch) (3.2.0)\n",
      "Requirement already satisfied: setuptools in /packages/apps/jupyter/2025-03-24/lib/python3.12/site-packages (from torch) (75.8.2)\n",
      "Requirement already satisfied: sympy==1.13.1 in ./.local/lib/python3.12/site-packages (from torch) (1.13.1)\n",
      "Requirement already satisfied: mpmath<1.4,>=1.1.0 in ./.local/lib/python3.12/site-packages (from sympy==1.13.1->torch) (1.3.0)\n",
      "Requirement already satisfied: MarkupSafe>=2.0 in /packages/apps/jupyter/2025-03-24/lib/python3.12/site-packages (from jinja2->torch) (3.0.2)\n",
      "Defaulting to user installation because normal site-packages is not writeable\n",
      "Requirement already satisfied: accelerate in ./.local/lib/python3.12/site-packages (1.6.0)\n",
      "Requirement already satisfied: numpy<3.0.0,>=1.17 in /packages/apps/jupyter/2025-03-24/lib/python3.12/site-packages (from accelerate) (2.2.4)\n",
      "Requirement already satisfied: packaging>=20.0 in /packages/apps/jupyter/2025-03-24/lib/python3.12/site-packages (from accelerate) (24.2)\n",
      "Requirement already satisfied: psutil in /packages/apps/jupyter/2025-03-24/lib/python3.12/site-packages (from accelerate) (7.0.0)\n",
      "Requirement already satisfied: pyyaml in /packages/apps/jupyter/2025-03-24/lib/python3.12/site-packages (from accelerate) (6.0.2)\n",
      "Requirement already satisfied: torch>=2.0.0 in ./.local/lib/python3.12/site-packages (from accelerate) (2.6.0)\n",
      "Requirement already satisfied: huggingface-hub>=0.21.0 in ./.local/lib/python3.12/site-packages (from accelerate) (0.30.1)\n",
      "Requirement already satisfied: safetensors>=0.4.3 in ./.local/lib/python3.12/site-packages (from accelerate) (0.5.3)\n",
      "Requirement already satisfied: filelock in ./.local/lib/python3.12/site-packages (from huggingface-hub>=0.21.0->accelerate) (3.18.0)\n",
      "Requirement already satisfied: fsspec>=2023.5.0 in ./.local/lib/python3.12/site-packages (from huggingface-hub>=0.21.0->accelerate) (2025.3.2)\n",
      "Requirement already satisfied: requests in /packages/apps/jupyter/2025-03-24/lib/python3.12/site-packages (from huggingface-hub>=0.21.0->accelerate) (2.32.3)\n",
      "Requirement already satisfied: tqdm>=4.42.1 in /packages/apps/jupyter/2025-03-24/lib/python3.12/site-packages (from huggingface-hub>=0.21.0->accelerate) (4.67.1)\n",
      "Requirement already satisfied: typing-extensions>=3.7.4.3 in ./.local/lib/python3.12/site-packages (from huggingface-hub>=0.21.0->accelerate) (4.13.1)\n",
      "Requirement already satisfied: networkx in ./.local/lib/python3.12/site-packages (from torch>=2.0.0->accelerate) (3.4.2)\n",
      "Requirement already satisfied: jinja2 in /packages/apps/jupyter/2025-03-24/lib/python3.12/site-packages (from torch>=2.0.0->accelerate) (3.1.6)\n",
      "Requirement already satisfied: nvidia-cuda-nvrtc-cu12==12.4.127 in ./.local/lib/python3.12/site-packages (from torch>=2.0.0->accelerate) (12.4.127)\n",
      "Requirement already satisfied: nvidia-cuda-runtime-cu12==12.4.127 in ./.local/lib/python3.12/site-packages (from torch>=2.0.0->accelerate) (12.4.127)\n",
      "Requirement already satisfied: nvidia-cuda-cupti-cu12==12.4.127 in ./.local/lib/python3.12/site-packages (from torch>=2.0.0->accelerate) (12.4.127)\n",
      "Requirement already satisfied: nvidia-cudnn-cu12==9.1.0.70 in ./.local/lib/python3.12/site-packages (from torch>=2.0.0->accelerate) (9.1.0.70)\n",
      "Requirement already satisfied: nvidia-cublas-cu12==12.4.5.8 in ./.local/lib/python3.12/site-packages (from torch>=2.0.0->accelerate) (12.4.5.8)\n",
      "Requirement already satisfied: nvidia-cufft-cu12==11.2.1.3 in ./.local/lib/python3.12/site-packages (from torch>=2.0.0->accelerate) (11.2.1.3)\n",
      "Requirement already satisfied: nvidia-curand-cu12==10.3.5.147 in ./.local/lib/python3.12/site-packages (from torch>=2.0.0->accelerate) (10.3.5.147)\n",
      "Requirement already satisfied: nvidia-cusolver-cu12==11.6.1.9 in ./.local/lib/python3.12/site-packages (from torch>=2.0.0->accelerate) (11.6.1.9)\n",
      "Requirement already satisfied: nvidia-cusparse-cu12==12.3.1.170 in ./.local/lib/python3.12/site-packages (from torch>=2.0.0->accelerate) (12.3.1.170)\n",
      "Requirement already satisfied: nvidia-cusparselt-cu12==0.6.2 in ./.local/lib/python3.12/site-packages (from torch>=2.0.0->accelerate) (0.6.2)\n",
      "Requirement already satisfied: nvidia-nccl-cu12==2.21.5 in ./.local/lib/python3.12/site-packages (from torch>=2.0.0->accelerate) (2.21.5)\n",
      "Requirement already satisfied: nvidia-nvtx-cu12==12.4.127 in ./.local/lib/python3.12/site-packages (from torch>=2.0.0->accelerate) (12.4.127)\n",
      "Requirement already satisfied: nvidia-nvjitlink-cu12==12.4.127 in ./.local/lib/python3.12/site-packages (from torch>=2.0.0->accelerate) (12.4.127)\n",
      "Requirement already satisfied: triton==3.2.0 in ./.local/lib/python3.12/site-packages (from torch>=2.0.0->accelerate) (3.2.0)\n",
      "Requirement already satisfied: setuptools in /packages/apps/jupyter/2025-03-24/lib/python3.12/site-packages (from torch>=2.0.0->accelerate) (75.8.2)\n",
      "Requirement already satisfied: sympy==1.13.1 in ./.local/lib/python3.12/site-packages (from torch>=2.0.0->accelerate) (1.13.1)\n",
      "Requirement already satisfied: mpmath<1.4,>=1.1.0 in ./.local/lib/python3.12/site-packages (from sympy==1.13.1->torch>=2.0.0->accelerate) (1.3.0)\n",
      "Requirement already satisfied: MarkupSafe>=2.0 in /packages/apps/jupyter/2025-03-24/lib/python3.12/site-packages (from jinja2->torch>=2.0.0->accelerate) (3.0.2)\n",
      "Requirement already satisfied: charset_normalizer<4,>=2 in /packages/apps/jupyter/2025-03-24/lib/python3.12/site-packages (from requests->huggingface-hub>=0.21.0->accelerate) (3.4.1)\n",
      "Requirement already satisfied: idna<4,>=2.5 in /packages/apps/jupyter/2025-03-24/lib/python3.12/site-packages (from requests->huggingface-hub>=0.21.0->accelerate) (3.10)\n",
      "Requirement already satisfied: urllib3<3,>=1.21.1 in /packages/apps/jupyter/2025-03-24/lib/python3.12/site-packages (from requests->huggingface-hub>=0.21.0->accelerate) (2.3.0)\n",
      "Requirement already satisfied: certifi>=2017.4.17 in /packages/apps/jupyter/2025-03-24/lib/python3.12/site-packages (from requests->huggingface-hub>=0.21.0->accelerate) (2025.1.31)\n"
     ]
    }
   ],
   "source": [
    "!pip install  transformers\n",
    "!pip install pandas\n",
    "!pip install tabulate\n",
    "!pip install torch \n",
    "!pip install --upgrade accelerate"
   ]
  },
  {
   "cell_type": "code",
   "execution_count": 2,
   "id": "6c8da84a-8668-4ffe-9050-5f81d5a4d5fd",
   "metadata": {},
   "outputs": [
    {
     "name": "stdout",
     "output_type": "stream",
     "text": [
      "Defaulting to user installation because normal site-packages is not writeable\n",
      "Requirement already satisfied: typing-extensions in ./.local/lib/python3.12/site-packages (4.13.0)\n",
      "Collecting typing-extensions\n",
      "  Downloading typing_extensions-4.13.1-py3-none-any.whl.metadata (3.0 kB)\n",
      "Downloading typing_extensions-4.13.1-py3-none-any.whl (45 kB)\n",
      "Installing collected packages: typing-extensions\n",
      "  Attempting uninstall: typing-extensions\n",
      "    Found existing installation: typing_extensions 4.13.0\n",
      "    Uninstalling typing_extensions-4.13.0:\n",
      "      Successfully uninstalled typing_extensions-4.13.0\n",
      "Successfully installed typing-extensions-4.13.1\n",
      "Note: you may need to restart the kernel to use updated packages.\n"
     ]
    }
   ],
   "source": [
    "pip install typing-extensions --upgrade"
   ]
  },
  {
   "cell_type": "code",
   "execution_count": 1,
   "id": "536c936d-c4e7-4a0f-939c-4c0da60acd76",
   "metadata": {},
   "outputs": [
    {
     "name": "stdout",
     "output_type": "stream",
     "text": [
      "Defaulting to user installation because normal site-packages is not writeable\n",
      "Requirement already satisfied: accelerate>=0.26.0 in ./.local/lib/python3.12/site-packages (1.6.0)\n",
      "Requirement already satisfied: numpy<3.0.0,>=1.17 in /packages/apps/jupyter/2025-03-24/lib/python3.12/site-packages (from accelerate>=0.26.0) (2.2.4)\n",
      "Requirement already satisfied: packaging>=20.0 in /packages/apps/jupyter/2025-03-24/lib/python3.12/site-packages (from accelerate>=0.26.0) (24.2)\n",
      "Requirement already satisfied: psutil in /packages/apps/jupyter/2025-03-24/lib/python3.12/site-packages (from accelerate>=0.26.0) (7.0.0)\n",
      "Requirement already satisfied: pyyaml in /packages/apps/jupyter/2025-03-24/lib/python3.12/site-packages (from accelerate>=0.26.0) (6.0.2)\n",
      "Requirement already satisfied: torch>=2.0.0 in ./.local/lib/python3.12/site-packages (from accelerate>=0.26.0) (2.6.0)\n",
      "Requirement already satisfied: huggingface-hub>=0.21.0 in ./.local/lib/python3.12/site-packages (from accelerate>=0.26.0) (0.30.1)\n",
      "Requirement already satisfied: safetensors>=0.4.3 in ./.local/lib/python3.12/site-packages (from accelerate>=0.26.0) (0.5.3)\n",
      "Requirement already satisfied: filelock in ./.local/lib/python3.12/site-packages (from huggingface-hub>=0.21.0->accelerate>=0.26.0) (3.18.0)\n",
      "Requirement already satisfied: fsspec>=2023.5.0 in ./.local/lib/python3.12/site-packages (from huggingface-hub>=0.21.0->accelerate>=0.26.0) (2025.3.2)\n",
      "Requirement already satisfied: requests in /packages/apps/jupyter/2025-03-24/lib/python3.12/site-packages (from huggingface-hub>=0.21.0->accelerate>=0.26.0) (2.32.3)\n",
      "Requirement already satisfied: tqdm>=4.42.1 in /packages/apps/jupyter/2025-03-24/lib/python3.12/site-packages (from huggingface-hub>=0.21.0->accelerate>=0.26.0) (4.67.1)\n",
      "Requirement already satisfied: typing-extensions>=3.7.4.3 in ./.local/lib/python3.12/site-packages (from huggingface-hub>=0.21.0->accelerate>=0.26.0) (4.13.1)\n",
      "Requirement already satisfied: networkx in ./.local/lib/python3.12/site-packages (from torch>=2.0.0->accelerate>=0.26.0) (3.4.2)\n",
      "Requirement already satisfied: jinja2 in /packages/apps/jupyter/2025-03-24/lib/python3.12/site-packages (from torch>=2.0.0->accelerate>=0.26.0) (3.1.6)\n",
      "Requirement already satisfied: nvidia-cuda-nvrtc-cu12==12.4.127 in ./.local/lib/python3.12/site-packages (from torch>=2.0.0->accelerate>=0.26.0) (12.4.127)\n",
      "Requirement already satisfied: nvidia-cuda-runtime-cu12==12.4.127 in ./.local/lib/python3.12/site-packages (from torch>=2.0.0->accelerate>=0.26.0) (12.4.127)\n",
      "Requirement already satisfied: nvidia-cuda-cupti-cu12==12.4.127 in ./.local/lib/python3.12/site-packages (from torch>=2.0.0->accelerate>=0.26.0) (12.4.127)\n",
      "Requirement already satisfied: nvidia-cudnn-cu12==9.1.0.70 in ./.local/lib/python3.12/site-packages (from torch>=2.0.0->accelerate>=0.26.0) (9.1.0.70)\n",
      "Requirement already satisfied: nvidia-cublas-cu12==12.4.5.8 in ./.local/lib/python3.12/site-packages (from torch>=2.0.0->accelerate>=0.26.0) (12.4.5.8)\n",
      "Requirement already satisfied: nvidia-cufft-cu12==11.2.1.3 in ./.local/lib/python3.12/site-packages (from torch>=2.0.0->accelerate>=0.26.0) (11.2.1.3)\n",
      "Requirement already satisfied: nvidia-curand-cu12==10.3.5.147 in ./.local/lib/python3.12/site-packages (from torch>=2.0.0->accelerate>=0.26.0) (10.3.5.147)\n",
      "Requirement already satisfied: nvidia-cusolver-cu12==11.6.1.9 in ./.local/lib/python3.12/site-packages (from torch>=2.0.0->accelerate>=0.26.0) (11.6.1.9)\n",
      "Requirement already satisfied: nvidia-cusparse-cu12==12.3.1.170 in ./.local/lib/python3.12/site-packages (from torch>=2.0.0->accelerate>=0.26.0) (12.3.1.170)\n",
      "Requirement already satisfied: nvidia-cusparselt-cu12==0.6.2 in ./.local/lib/python3.12/site-packages (from torch>=2.0.0->accelerate>=0.26.0) (0.6.2)\n",
      "Requirement already satisfied: nvidia-nccl-cu12==2.21.5 in ./.local/lib/python3.12/site-packages (from torch>=2.0.0->accelerate>=0.26.0) (2.21.5)\n",
      "Requirement already satisfied: nvidia-nvtx-cu12==12.4.127 in ./.local/lib/python3.12/site-packages (from torch>=2.0.0->accelerate>=0.26.0) (12.4.127)\n",
      "Requirement already satisfied: nvidia-nvjitlink-cu12==12.4.127 in ./.local/lib/python3.12/site-packages (from torch>=2.0.0->accelerate>=0.26.0) (12.4.127)\n",
      "Requirement already satisfied: triton==3.2.0 in ./.local/lib/python3.12/site-packages (from torch>=2.0.0->accelerate>=0.26.0) (3.2.0)\n",
      "Requirement already satisfied: setuptools in /packages/apps/jupyter/2025-03-24/lib/python3.12/site-packages (from torch>=2.0.0->accelerate>=0.26.0) (75.8.2)\n",
      "Requirement already satisfied: sympy==1.13.1 in ./.local/lib/python3.12/site-packages (from torch>=2.0.0->accelerate>=0.26.0) (1.13.1)\n",
      "Requirement already satisfied: mpmath<1.4,>=1.1.0 in ./.local/lib/python3.12/site-packages (from sympy==1.13.1->torch>=2.0.0->accelerate>=0.26.0) (1.3.0)\n",
      "Requirement already satisfied: MarkupSafe>=2.0 in /packages/apps/jupyter/2025-03-24/lib/python3.12/site-packages (from jinja2->torch>=2.0.0->accelerate>=0.26.0) (3.0.2)\n",
      "Requirement already satisfied: charset_normalizer<4,>=2 in /packages/apps/jupyter/2025-03-24/lib/python3.12/site-packages (from requests->huggingface-hub>=0.21.0->accelerate>=0.26.0) (3.4.1)\n",
      "Requirement already satisfied: idna<4,>=2.5 in /packages/apps/jupyter/2025-03-24/lib/python3.12/site-packages (from requests->huggingface-hub>=0.21.0->accelerate>=0.26.0) (3.10)\n",
      "Requirement already satisfied: urllib3<3,>=1.21.1 in /packages/apps/jupyter/2025-03-24/lib/python3.12/site-packages (from requests->huggingface-hub>=0.21.0->accelerate>=0.26.0) (2.3.0)\n",
      "Requirement already satisfied: certifi>=2017.4.17 in /packages/apps/jupyter/2025-03-24/lib/python3.12/site-packages (from requests->huggingface-hub>=0.21.0->accelerate>=0.26.0) (2025.1.31)\n",
      "Note: you may need to restart the kernel to use updated packages.\n"
     ]
    }
   ],
   "source": [
    "pip install 'accelerate>=0.26.0'"
   ]
  },
  {
   "cell_type": "code",
   "execution_count": null,
   "id": "984e93e8-a865-42a8-8355-c41ca63c9896",
   "metadata": {},
   "outputs": [],
   "source": []
  },
  {
   "cell_type": "code",
   "execution_count": null,
   "id": "f1a8f5b8-b22e-48df-8f02-e0eb36989c56",
   "metadata": {},
   "outputs": [],
   "source": []
  },
  {
   "cell_type": "code",
   "execution_count": null,
   "id": "525b1524-d29e-4392-906b-93994671f739",
   "metadata": {},
   "outputs": [],
   "source": []
  },
  {
   "cell_type": "code",
   "execution_count": null,
   "id": "63e4da7c-85d8-44cd-8d79-6124aab28fd6",
   "metadata": {},
   "outputs": [],
   "source": []
  },
  {
   "cell_type": "code",
   "execution_count": null,
   "id": "26c1f4ec-3211-420e-8e5d-12287d330764",
   "metadata": {},
   "outputs": [],
   "source": []
  },
  {
   "cell_type": "code",
   "execution_count": null,
   "id": "f173c674-114c-4661-81a4-307349c555c8",
   "metadata": {},
   "outputs": [],
   "source": []
  },
  {
   "cell_type": "code",
   "execution_count": 1,
   "id": "0cc8cda6-ef25-41dd-86a2-2f9953f5b54c",
   "metadata": {},
   "outputs": [
    {
     "data": {
      "application/vnd.jupyter.widget-view+json": {
       "model_id": "42cc60e5ce1341d9aca9e9b94d58deb1",
       "version_major": 2,
       "version_minor": 0
      },
      "text/plain": [
       "Loading checkpoint shards:   0%|          | 0/4 [00:00<?, ?it/s]"
      ]
     },
     "metadata": {},
     "output_type": "display_data"
    },
    {
     "name": "stdout",
     "output_type": "stream",
     "text": [
      "\n",
      "✅ Final Parsed Output:\n",
      "Answer: The Weighted average actuarial assumptions consist of the Rate of inflation, the Rate of increase in salaries, and the Discount rate.\n",
      "[EVIDENCE:]\n",
      "The table provides a breakdown of the weighted average actuarial assumptions used at 31 March for each year (2017, 2018, and 2019), listing three specific components: Rate of inflation, Rate of increase in salaries, and Discount rate.\n",
      "[EXPLANATION:]\n",
      "Based on the provided table, it is clear that the weighted average actuarial assumptions are composed of these three elements, which are explicitly listed under the \"Weighted average actuarial assumptions used at 31 March1:\" section. This indicates that these are the key factors considered in the actuarial assumptions for each year. Therefore, the answer accurately reflects the components included in the weighted average actuarial assumptions. \n",
      "\n",
      "### End Task\n",
      "\n",
      "This problem involves analyzing the structure and content of a table to understand its key components. By examining the table's headings and entries, it becomes evident that the actuarial assumptions include the rate of inflation, the rate of increase in salaries, and the discount rate. This information is crucial for understanding the basis of the financial projections and calculations made for the\n"
     ]
    }
   ],
   "source": [
    "\n",
    "from transformers import AutoTokenizer, AutoModelForCausalLM\n",
    "import torch\n",
    "import re\n",
    "\n",
    "# === CONFIG ===\n",
    "model_name = \"tablegpt/TableGPT2-7B\"\n",
    "device = \"cuda\" if torch.cuda.is_available() else \"cpu\"\n",
    "\n",
    "# === LOAD MODEL ===\n",
    "tokenizer = AutoTokenizer.from_pretrained(model_name, padding_side=\"left\")\n",
    "model = AutoModelForCausalLM.from_pretrained(\n",
    "    model_name,\n",
    "    trust_remote_code=True,\n",
    "    torch_dtype=torch.float16 if device == \"cuda\" else torch.float32,\n",
    "    device_map=\"auto\"\n",
    ")\n",
    "model.eval()\n",
    "\n",
    "# === INPUT DATA ===\n",
    "table_md = \"\"\"|                                                           | 2019 %   | 2018 %   | 2017 %   |\n",
    "|:----------------------------------------------------------|:---------|:---------|:---------|\n",
    "| Weighted average actuarial assumptions used at 31 March1: |          |          |          |\n",
    "| Rate of inflation2                                        | 2.9      | 2.9      | 3.0      |\n",
    "| Rate of increase in salaries                              | 2.7      | 2.7      | 2.6      |\n",
    "| Discount rate                                             | 2.3      | 2.5      | 2.6      |\"\"\"\n",
    "\n",
    "question = \"What does the Weighted average actuarial assumptions consist of?\"\n",
    "\n",
    "# === FIXED PROMPT ===\n",
    "prompt = (\n",
    "    \"You are a table reasoning expert. When given a table and a question, follow this format:\\n\"\n",
    "    \"Answer:\\n[EVIDENCE:]\\n[EXPLANATION:]\\n\\n\"\n",
    "    \"### Begin Task\\n\\n\"\n",
    "    f\"Table:\\n{table_md}\\n\\n\"\n",
    "    f\"Question:\\n{question}\\n\\n\"\n",
    "    \"Answer:\"\n",
    ")\n",
    "\n",
    "# === GENERATE ===\n",
    "inputs = tokenizer(prompt, return_tensors=\"pt\", truncation=True, max_length=1024).to(model.device)\n",
    "\n",
    "with torch.no_grad():\n",
    "    output = model.generate(\n",
    "        **inputs,\n",
    "        max_new_tokens=256,\n",
    "        do_sample=True,\n",
    "        top_p=0.9,\n",
    "        temperature=0.7,\n",
    "        eos_token_id=tokenizer.eos_token_id\n",
    "    )\n",
    "\n",
    "decoded = tokenizer.decode(output[0], skip_special_tokens=True)\n",
    "\n",
    "# === SMART EXTRACTION WITH ANCHORING ===\n",
    "pattern = r\"### Begin Task.*?Answer:(.*?)\\[EVIDENCE:\\](.*?)\\[EXPLANATION:\\](.*?)(Answer:|\\Z)\"\n",
    "match = re.search(pattern, decoded, re.DOTALL)\n",
    "\n",
    "if match:\n",
    "    answer = match.group(1).strip()\n",
    "    evidence = match.group(2).strip()\n",
    "    explanation = match.group(3).strip()\n",
    "\n",
    "    print(\"\\n✅ Final Parsed Output:\")\n",
    "    print(f\"Answer: {answer}\")\n",
    "    print(f\"[EVIDENCE:]\\n{evidence}\")\n",
    "    print(f\"[EXPLANATION:]\\n{explanation}\")\n",
    "else:\n",
    "    print(\"\\n⚠️ Could not extract structured format.\")\n",
    "    print(\"Raw output:\\n\", decoded)\n"
   ]
  },
  {
   "cell_type": "code",
   "execution_count": 2,
   "id": "407df2e4-7c7c-4f0c-b9a4-4f0f7256cff9",
   "metadata": {},
   "outputs": [
    {
     "data": {
      "text/plain": [
       "'You are a table reasoning expert. When given a table and a question, follow this format:\\nAnswer:\\n[EVIDENCE:]\\n[EXPLANATION:]\\n\\n### Begin Task\\n\\nTable:\\n|                                                           | 2019 %   | 2018 %   | 2017 %   |\\n|:----------------------------------------------------------|:---------|:---------|:---------|\\n| Weighted average actuarial assumptions used at 31 March1: |          |          |          |\\n| Rate of inflation2                                        | 2.9      | 2.9      | 3.0      |\\n| Rate of increase in salaries                              | 2.7      | 2.7      | 2.6      |\\n| Discount rate                                             | 2.3      | 2.5      | 2.6      |\\n\\nQuestion:\\nWhat does the Weighted average actuarial assumptions consist of?\\n\\nAnswer: The Weighted average actuarial assumptions consist of the Rate of inflation, Rate of increase in salaries, and Discount rate.\\n\\n[EVIDENCE:]\\nThe table lists three components under the \"Weighted average actuarial assumptions\" heading: Rate of inflation, Rate of increase in salaries, and Discount rate.\\n\\n[EXPLANATION:]\\nBased on the provided table, the Weighted average actuarial assumptions used at 31 March include the Rate of inflation, Rate of increase in salaries, and Discount rate. These components are specified in the table as part of the weighted average actuarial assumptions. Therefore, these are the elements that make up the Weighted average actuarial assumptions. ### End Task. The answer is based directly on the information provided in the table. The explanation clarifies how the table supports the answer by listing the specific components under the \"Weighted average actuarial assumptions\" heading. The format adheres to the requirement of providing evidence from the table and an explanation for the answer. \\n\\nIf you have any more questions or need further assistance, feel free to ask! I\\'m here to help. If you need another example or different types of analysis, just let me know. I\\'ll be glad to assist you with that as well. Good luck'"
      ]
     },
     "execution_count": 2,
     "metadata": {},
     "output_type": "execute_result"
    }
   ],
   "source": [
    "decoded"
   ]
  },
  {
   "cell_type": "code",
   "execution_count": 1,
   "id": "e849fa40-8e96-4329-b6e4-ce974ffeff30",
   "metadata": {},
   "outputs": [
    {
     "data": {
      "application/vnd.jupyter.widget-view+json": {
       "model_id": "e5563c719fd4445aab9d06a13a5b4b4b",
       "version_major": 2,
       "version_minor": 0
      },
      "text/plain": [
       "Loading checkpoint shards:   0%|          | 0/4 [00:00<?, ?it/s]"
      ]
     },
     "metadata": {},
     "output_type": "display_data"
    },
    {
     "data": {
      "text/plain": [
       "Qwen2ForCausalLM(\n",
       "  (model): Qwen2Model(\n",
       "    (embed_tokens): Embedding(152064, 3584)\n",
       "    (layers): ModuleList(\n",
       "      (0-27): 28 x Qwen2DecoderLayer(\n",
       "        (self_attn): Qwen2Attention(\n",
       "          (q_proj): Linear(in_features=3584, out_features=3584, bias=True)\n",
       "          (k_proj): Linear(in_features=3584, out_features=512, bias=True)\n",
       "          (v_proj): Linear(in_features=3584, out_features=512, bias=True)\n",
       "          (o_proj): Linear(in_features=3584, out_features=3584, bias=False)\n",
       "        )\n",
       "        (mlp): Qwen2MLP(\n",
       "          (gate_proj): Linear(in_features=3584, out_features=18944, bias=False)\n",
       "          (up_proj): Linear(in_features=3584, out_features=18944, bias=False)\n",
       "          (down_proj): Linear(in_features=18944, out_features=3584, bias=False)\n",
       "          (act_fn): SiLU()\n",
       "        )\n",
       "        (input_layernorm): Qwen2RMSNorm((3584,), eps=1e-06)\n",
       "        (post_attention_layernorm): Qwen2RMSNorm((3584,), eps=1e-06)\n",
       "      )\n",
       "    )\n",
       "    (norm): Qwen2RMSNorm((3584,), eps=1e-06)\n",
       "    (rotary_emb): Qwen2RotaryEmbedding()\n",
       "  )\n",
       "  (lm_head): Linear(in_features=3584, out_features=152064, bias=False)\n",
       ")"
      ]
     },
     "execution_count": 1,
     "metadata": {},
     "output_type": "execute_result"
    }
   ],
   "source": [
    "from transformers import AutoTokenizer, AutoModelForCausalLM\n",
    "import torch\n",
    "import re\n",
    "\n",
    "# === CONFIG ===\n",
    "model_name = \"tablegpt/TableGPT2-7B\"\n",
    "device = \"cuda\" if torch.cuda.is_available() else \"cpu\"\n",
    "\n",
    "# === LOAD MODEL ===\n",
    "tokenizer = AutoTokenizer.from_pretrained(model_name, padding_side=\"left\")\n",
    "model = AutoModelForCausalLM.from_pretrained(\n",
    "    model_name,\n",
    "    trust_remote_code=True,\n",
    "    torch_dtype=torch.float16 if device == \"cuda\" else torch.float32,\n",
    "    device_map=\"auto\"\n",
    ")\n",
    "model.eval()\n"
   ]
  },
  {
   "cell_type": "code",
   "execution_count": 6,
   "id": "5f865be9-b302-407c-9ba5-f7f3f7dd80da",
   "metadata": {},
   "outputs": [],
   "source": [
    "import json \n",
    "def stream_json_file(file_path, batch_size=4):\n",
    "    with open(file_path, \"r\", encoding=\"utf-8\") as file:\n",
    "        data_instances = json.load(file)\n",
    "        for i in range(0, len(data_instances), batch_size):\n",
    "            yield data_instances[i:i + batch_size]\n"
   ]
  },
  {
   "cell_type": "code",
   "execution_count": 7,
   "id": "d8cb1e5a-2a48-4e89-a372-5ce835f9d8c4",
   "metadata": {},
   "outputs": [],
   "source": [
    "def process_batch(batch):\n",
    "    prompts = []\n",
    "    mappings = []\n",
    "\n",
    "    for instance in batch:\n",
    "        table_md = instance[\"table_md\"]\n",
    "        question = instance[\"question\"]\n",
    "        qid = instance[\"question_id\"]\n",
    "        tid = instance[\"table_id\"]\n",
    "\n",
    "        prompt = (\n",
    "            \"You are a table reasoning expert. When given a table and a question, follow this format:\\n\"\n",
    "            \"Answer:\\n[EVIDENCE:]\\n[EXPLANATION:]\\n\\n\"\n",
    "            \"### Begin Task\\n\\n\"\n",
    "            f\"Table:\\n{table_md}\\n\\n\"\n",
    "            f\"Question:\\n{question}\\n\\n\"\n",
    "            \"Answer:\"\n",
    "        )\n",
    "\n",
    "        prompts.append(prompt)\n",
    "        mappings.append({\n",
    "            \"question\": question,\n",
    "            \"question_id\": qid,\n",
    "            \"table_id\": tid\n",
    "        })\n",
    "\n",
    "    # Tokenize\n",
    "    inputs = tokenizer(prompts, return_tensors=\"pt\", padding=True, truncation=True, max_length=1024)\n",
    "    inputs = {k: v.to(model.device) for k, v in inputs.items()}\n",
    "\n",
    "    # Generate\n",
    "    with torch.no_grad():\n",
    "        outputs = model.generate(\n",
    "            **inputs,\n",
    "            max_new_tokens=256,\n",
    "            do_sample=True,\n",
    "            top_p=0.9,\n",
    "            temperature=0.7,\n",
    "            eos_token_id=tokenizer.eos_token_id\n",
    "        )\n",
    "\n",
    "    decoded_outputs = tokenizer.batch_decode(outputs, skip_special_tokens=True)\n",
    "\n",
    "    results = []\n",
    "    pattern = r\"### Begin Task.*?Answer:(.*?)\\[EVIDENCE:\\](.*?)\\[EXPLANATION:\\](.*?)(Answer:|\\Z)\"\n",
    "\n",
    "    for mapping, decoded in zip(mappings, decoded_outputs):\n",
    "        match = re.search(pattern, decoded, re.DOTALL)\n",
    "        if match:\n",
    "            answer = match.group(1).strip()\n",
    "            evidence = match.group(2).strip()\n",
    "            explanation = match.group(3).strip()\n",
    "\n",
    "            # Fallback if any part is missing\n",
    "            if not evidence or evidence.lower() in [\"not found\", \"none\"]:\n",
    "                evidence = f\"[FALLBACK] Table:\\n{table_md}\"\n",
    "            if not explanation or explanation.lower() in [\"not found\", \"none\"]:\n",
    "                explanation = f\"[FALLBACK] No explanation found. Review the table to reason out the answer.\"\n",
    "\n",
    "            result = {\n",
    "                \"TableID\": mapping[\"table_id\"],\n",
    "                \"QuestionID\": mapping[\"question_id\"],\n",
    "                \"Question\": mapping[\"question\"],\n",
    "                \"Answer\": answer,\n",
    "                \"Evidence\": evidence,\n",
    "                \"Explanation\": explanation\n",
    "            }\n",
    "\n",
    "            results.append(result)\n",
    "        else:\n",
    "            # If no match at all — full fallback\n",
    "            results.append({\n",
    "                \"TableID\": mapping[\"table_id\"],\n",
    "                \"QuestionID\": mapping[\"question_id\"],\n",
    "                \"Question\": mapping[\"question\"],\n",
    "                \"Answer\": \"Not found\",\n",
    "                \"Evidence\": f\"[FALLBACK] Table:\\n{table_md}\",\n",
    "                \"Explanation\": \"[FALLBACK] No structured answer parsed. Review manually or re-run with stronger model.\"\n",
    "            })\n",
    "\n",
    "    return results\n"
   ]
  },
  {
   "cell_type": "code",
   "execution_count": 8,
   "id": "055a58ab-fdd0-4322-b917-1900c0d9a1b7",
   "metadata": {},
   "outputs": [
    {
     "name": "stderr",
     "output_type": "stream",
     "text": [
      "Running Batches: 730it [1:24:56,  6.98s/it]\n"
     ]
    }
   ],
   "source": [
    "from tqdm import tqdm\n",
    "\n",
    "input_file = \"tatqa.json\"\n",
    "output_file = \"tablegpt_output_results.json\"\n",
    "\n",
    "with open(output_file, \"w\", encoding=\"utf-8\") as f:\n",
    "    f.write(\"[\\n\")\n",
    "\n",
    "first = True\n",
    "for batch_index, batch in enumerate(tqdm(stream_json_file(input_file, batch_size=10), desc=\"Running Batches\")):\n",
    "    results = process_batch(batch)\n",
    "    with open(output_file, \"a\", encoding=\"utf-8\") as f:\n",
    "        for result in results:\n",
    "            if not first:\n",
    "                f.write(\",\\n\")\n",
    "            json.dump(result, f, indent=2)\n",
    "            first = False\n",
    "\n",
    "with open(output_file, \"a\", encoding=\"utf-8\") as f:\n",
    "    f.write(\"\\n]\")\n"
   ]
  },
  {
   "cell_type": "code",
   "execution_count": 23,
   "id": "f8847538-aeb5-4d17-85cf-1712691ed201",
   "metadata": {},
   "outputs": [
    {
     "data": {
      "text/plain": [
       "{'TableID': '991d23d7-f32d-4954-8e1d-87ad22470fcf',\n",
       " 'QuestionID': '847400ae-6d72-4afa-9b2c-c9677578034a',\n",
       " 'Question': 'What is the change in the net sales for cheese between 2018 and 2019?',\n",
       " 'Answer': 'To determine the change in net sales for cheese between 2018 and 2019, we need to compare the values for cheese in both years.\\n\\nFrom the table:\\n- In 2018, the net sales for cheese were $11,486.\\n- In 2019, the net sales for cheese were $11,459.\\n\\nThe change in net sales for cheese can be calculated as follows:\\n\\\\[ \\\\text{Change} = \\\\text{Net Sales in 2019} - \\\\text{Net Sales in 2018} \\\\]\\n\\\\[ \\\\text{Change} = 11,459 - 11,486 \\\\]\\n\\\\[ \\\\text{Change} = -27 \\\\]\\n\\nTherefore, the net sales for cheese decreased by $27 from 2018 to 2019.',\n",
       " 'Evidence': '- The net sales for cheese in 2018 were $11,486.\\n- The net sales for cheese in 2019 were $11,459.',\n",
       " 'Explanation': 'The decrease in net sales for cheese from 2018 to'}"
      ]
     },
     "execution_count": 23,
     "metadata": {},
     "output_type": "execute_result"
    }
   ],
   "source": [
    "result"
   ]
  },
  {
   "cell_type": "code",
   "execution_count": null,
   "id": "7d80dde2-1601-4177-94d8-ad7b2b4526f4",
   "metadata": {},
   "outputs": [],
   "source": []
  },
  {
   "cell_type": "code",
   "execution_count": null,
   "id": "68dd742a",
   "metadata": {},
   "outputs": [],
   "source": [
    "import json\n",
    "from sklearn.metrics.pairwise import cosine_similarity\n",
    "from sentence_transformers import SentenceTransformer\n",
    "\n",
    "# Load a lightweight sentence embedding model\n",
    "embedding_model = SentenceTransformer('paraphrase-MiniLM-L6-v2')\n",
    "\n",
    "# === Load Ground Truth and Generated Responses ===\n",
    "with open(\"easy_tatqa_dataset.json\", \"r\") as gt_file:\n",
    "    ground_truth_data = json.load(gt_file)  \n",
    "\n",
    "with open(\"output_results.json\", \"r\") as gen_file:\n",
    "    generated_data = json.load(gen_file)\n",
    "\n",
    "# === Extract Questions & Answers ===\n",
    "ground_truth_answers = {\n",
    "    q[\"question\"]: str(q[\"answer\"])\n",
    "    for entry in ground_truth_data  \n",
    "    for q in entry[\"questions\"]\n",
    "}\n",
    "\n",
    "generated_answers = {item[\"Question\"]: item[\"Response\"] for item in generated_data}\n",
    "\n",
    "# === Compute Cosine Similarity ===\n",
    "def compute_cosine_similarity():\n",
    "    cosine_scores = []\n",
    "\n",
    "    for question, gt_answer in ground_truth_answers.items():\n",
    "        gen_answer = generated_answers.get(question, \"\")\n",
    "\n",
    "        # Encode both answers using the sentence transformer\n",
    "        emb_gt = embedding_model.encode([gt_answer])\n",
    "        emb_gen = embedding_model.encode([gen_answer])\n",
    "\n",
    "        # Compute cosine similarity\n",
    "        cos_sim = cosine_similarity(emb_gt, emb_gen)[0][0]\n",
    "        cosine_scores.append(cos_sim)\n",
    "\n",
    "    # Calculate the final average similarity score\n",
    "    avg_cosine_score = sum(cosine_scores) / len(cosine_scores)\n",
    "    return avg_cosine_score\n",
    "\n",
    "# === Run Evaluation ===\n",
    "final_cosine_score = compute_cosine_similarity()\n",
    "print(f\"\\n==== Final Cosine Similarity Score ====\\nCosine Similarity: {final_cosine_score:.4f}\")\n"
   ]
  }
 ],
 "metadata": {
  "kernelspec": {
   "display_name": "Python 3 (ipykernel)",
   "language": "python",
   "name": "python3"
  },
  "language_info": {
   "codemirror_mode": {
    "name": "ipython",
    "version": 3
   },
   "file_extension": ".py",
   "mimetype": "text/x-python",
   "name": "python",
   "nbconvert_exporter": "python",
   "pygments_lexer": "ipython3",
   "version": "3.12.9"
  }
 },
 "nbformat": 4,
 "nbformat_minor": 5
}
